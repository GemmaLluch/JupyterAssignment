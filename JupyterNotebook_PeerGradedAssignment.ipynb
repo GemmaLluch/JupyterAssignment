{
  "metadata": {
    "language_info": {
      "codemirror_mode": {
        "name": "python",
        "version": 3
      },
      "file_extension": ".py",
      "mimetype": "text/x-python",
      "name": "python",
      "nbconvert_exporter": "python",
      "pygments_lexer": "ipython3",
      "version": "3.8"
    },
    "kernelspec": {
      "name": "python",
      "display_name": "Pyolite",
      "language": "python"
    }
  },
  "nbformat_minor": 4,
  "nbformat": 4,
  "cells": [
    {
      "cell_type": "markdown",
      "source": "# My Jupyter Notebook on IBM Watson Studio",
      "metadata": {}
    },
    {
      "cell_type": "markdown",
      "source": "**Gemma Lluch i Albiol**  \nData Scientist",
      "metadata": {}
    },
    {
      "cell_type": "markdown",
      "source": "*I find Data Science interesting because it has great amount of applications in different fields. It gives you the power to find meaningful information from data that otherwise would be unused in many cases.*",
      "metadata": {}
    },
    {
      "cell_type": "markdown",
      "source": "### Multiply 7 by 3",
      "metadata": {
        "tags": []
      }
    },
    {
      "cell_type": "code",
      "source": "7*3",
      "metadata": {
        "trusted": true
      },
      "execution_count": 4,
      "outputs": [
        {
          "execution_count": 4,
          "output_type": "execute_result",
          "data": {
            "text/plain": "21"
          },
          "metadata": {}
        }
      ]
    },
    {
      "cell_type": "markdown",
      "source": "`Numbered list:`\n1. First item\n2. Second item\n3. Third item\n---\n`Bulleted list:`\n- First item\n- Second item\n- Third item\n---\n~~The world is flat.~~",
      "metadata": {}
    },
    {
      "cell_type": "code",
      "source": "",
      "metadata": {},
      "execution_count": null,
      "outputs": []
    }
  ]
}